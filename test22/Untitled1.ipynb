{
 "cells": [
  {
   "cell_type": "code",
   "execution_count": 1,
   "id": "7f5cf18d",
   "metadata": {},
   "outputs": [
    {
     "name": "stdout",
     "output_type": "stream",
     "text": [
      "(60000, 28, 28) (60000,)\n"
     ]
    }
   ],
   "source": [
    "import keras\n",
    "from keras.datasets import mnist\n",
    "from keras.models import Sequential\n",
    "from keras.layers import Dense, Dropout, Flatten\n",
    "from keras.layers import Conv2D, MaxPooling2D\n",
    "from keras import backend as K\n",
    "\n",
    "# the data, split between train and test sets\n",
    "(x_train, y_train), (x_test, y_test) = mnist.load_data()\n",
    "\n",
    "print(x_train.shape, y_train.shape)"
   ]
  },
  {
   "cell_type": "code",
   "execution_count": 3,
   "id": "7b18750c",
   "metadata": {},
   "outputs": [
    {
     "name": "stdout",
     "output_type": "stream",
     "text": [
      "x_train shape: (60000, 28, 28, 1)\n",
      "60000 train samples\n",
      "10000 test samples\n"
     ]
    }
   ],
   "source": [
    "x_train = x_train.reshape(x_train.shape[0], 28, 28, 1)\n",
    "x_test = x_test.reshape(x_test.shape[0], 28, 28, 1)\n",
    "input_shape = (28, 28, 1)\n",
    "\n",
    "# convert class vectors to binary class matrices\n",
    "y_train = keras.utils.to_categorical(y_train, 10)\n",
    "y_test = keras.utils.to_categorical(y_test, 10)\n",
    "\n",
    "x_train = x_train.astype('float32')\n",
    "x_test = x_test.astype('float32')\n",
    "x_train /= 255\n",
    "x_test /= 255\n",
    "print('x_train shape:', x_train.shape)\n",
    "print(x_train.shape[0], 'train samples')\n",
    "print(x_test.shape[0], 'test samples')"
   ]
  },
  {
   "cell_type": "code",
   "execution_count": 4,
   "id": "e5ed440d",
   "metadata": {},
   "outputs": [],
   "source": [
    "batch_size = 128\n",
    "num_classes = 10\n",
    "epochs = 10\n",
    "model = Sequential()\n",
    "model.add(Conv2D(32, kernel_size=(3, 3),activation='relu',input_shape=input_shape))\n",
    "model.add(Conv2D(64, (3, 3), activation='relu'))\n",
    "model.add(MaxPooling2D(pool_size=(2, 2)))\n",
    "model.add(Dropout(0.25))\n",
    "model.add(Flatten())\n",
    "model.add(Dense(256, activation='relu'))\n",
    "model.add(Dropout(0.5))\n",
    "model.add(Dense(num_classes, activation='softmax'))\n",
    "model.compile(loss=keras.losses.categorical_crossentropy,optimizer=keras.optimizers.Adadelta(),metrics=['accuracy'])"
   ]
  },
  {
   "cell_type": "code",
   "execution_count": 5,
   "id": "7ea71c22",
   "metadata": {},
   "outputs": [
    {
     "name": "stdout",
     "output_type": "stream",
     "text": [
      "Epoch 1/10\n",
      "469/469 [==============================] - 71s 148ms/step - loss: 2.2565 - accuracy: 0.1847 - val_loss: 2.1839 - val_accuracy: 0.4693\n",
      "Epoch 2/10\n",
      "469/469 [==============================] - 69s 147ms/step - loss: 2.1447 - accuracy: 0.3484 - val_loss: 2.0452 - val_accuracy: 0.6595\n",
      "Epoch 3/10\n",
      "469/469 [==============================] - 77s 165ms/step - loss: 2.0006 - accuracy: 0.4740 - val_loss: 1.8610 - val_accuracy: 0.7222\n",
      "Epoch 4/10\n",
      "469/469 [==============================] - 75s 159ms/step - loss: 1.8165 - accuracy: 0.5492 - val_loss: 1.6291 - val_accuracy: 0.7499\n",
      "Epoch 5/10\n",
      "469/469 [==============================] - 75s 160ms/step - loss: 1.5955 - accuracy: 0.6033 - val_loss: 1.3762 - val_accuracy: 0.7744\n",
      "Epoch 6/10\n",
      "469/469 [==============================] - 76s 162ms/step - loss: 1.3820 - accuracy: 0.6443 - val_loss: 1.1445 - val_accuracy: 0.7949\n",
      "Epoch 7/10\n",
      "469/469 [==============================] - 77s 165ms/step - loss: 1.2032 - accuracy: 0.6733 - val_loss: 0.9593 - val_accuracy: 0.8154\n",
      "Epoch 8/10\n",
      "469/469 [==============================] - 526s 1s/step - loss: 1.0576 - accuracy: 0.7031 - val_loss: 0.8208 - val_accuracy: 0.8299\n",
      "Epoch 9/10\n",
      "469/469 [==============================] - 59s 126ms/step - loss: 0.9500 - accuracy: 0.7260 - val_loss: 0.7205 - val_accuracy: 0.8393\n",
      "Epoch 10/10\n",
      "469/469 [==============================] - 63s 134ms/step - loss: 0.8717 - accuracy: 0.7409 - val_loss: 0.6471 - val_accuracy: 0.8503\n",
      "The model has successfully trained\n",
      "Saving the model as mnist.h5\n"
     ]
    }
   ],
   "source": [
    "hist = model.fit(x_train, y_train,batch_size=batch_size,epochs=epochs,verbose=1,validation_data=(x_test, y_test))\n",
    "print(\"The model has successfully trained\")\n",
    "model.save('mnist.h5')\n",
    "print(\"Saving the model as mnist.h5\")\n"
   ]
  },
  {
   "cell_type": "code",
   "execution_count": 47,
   "id": "71bf77c2",
   "metadata": {},
   "outputs": [
    {
     "name": "stdout",
     "output_type": "stream",
     "text": [
      "1/1 [==============================] - 0s 23ms/step\n"
     ]
    }
   ],
   "source": [
    "import cv2\n",
    "import matplotlib.pyplot as plt\n",
    "import tensorflow as tf\n",
    "import numpy as np\n",
    "img=cv2.imread(\"w6.png\")\n",
    "gray=cv2.cvtColor(img,cv2.COLOR_BGR2GRAY)\n",
    "resized=cv2.resize(gray,(28,28),interpolation=cv2.INTER_AREA)\n",
    "newimg=tf.keras.utils.normalize(resized,axis=1)\n",
    "newimg3=np.array(newimg).reshape(-1,28,28,1)\n",
    "predictions=model.predict(newimg3)"
   ]
  },
  {
   "cell_type": "code",
   "execution_count": 48,
   "id": "01070070",
   "metadata": {},
   "outputs": [
    {
     "data": {
      "text/plain": [
       "2"
      ]
     },
     "execution_count": 48,
     "metadata": {},
     "output_type": "execute_result"
    }
   ],
   "source": [
    "np.argmax(predictions)"
   ]
  },
  {
   "cell_type": "code",
   "execution_count": 19,
   "id": "9737d106",
   "metadata": {},
   "outputs": [
    {
     "name": "stdout",
     "output_type": "stream",
     "text": [
      "Test loss: 0.6471492052078247\n",
      "Test accuracy: 0.8503000140190125\n"
     ]
    }
   ],
   "source": [
    "score = model.evaluate(x_test, y_test, verbose=0)\n",
    "print('Test loss:', score[0])\n",
    "print('Test accuracy:', score[1])"
   ]
  },
  {
   "cell_type": "code",
   "execution_count": 32,
   "id": "99939146",
   "metadata": {},
   "outputs": [
    {
     "name": "stdout",
     "output_type": "stream",
     "text": [
      "Epoch 1/10\n",
      "469/469 [==============================] - 51s 108ms/step - loss: 2.2844 - accuracy: 0.1616 - val_loss: 2.2532 - val_accuracy: 0.3351\n",
      "Epoch 2/10\n",
      "469/469 [==============================] - 57s 121ms/step - loss: 2.2313 - accuracy: 0.2895 - val_loss: 2.1885 - val_accuracy: 0.5098\n",
      "Epoch 3/10\n",
      "469/469 [==============================] - 58s 124ms/step - loss: 2.1617 - accuracy: 0.4026 - val_loss: 2.0985 - val_accuracy: 0.6132\n",
      "Epoch 4/10\n",
      "469/469 [==============================] - 62s 132ms/step - loss: 2.0626 - accuracy: 0.4942 - val_loss: 1.9683 - val_accuracy: 0.6785\n",
      "Epoch 5/10\n",
      "469/469 [==============================] - 60s 127ms/step - loss: 1.9187 - accuracy: 0.5659 - val_loss: 1.7814 - val_accuracy: 0.7251\n",
      "Epoch 6/10\n",
      "469/469 [==============================] - 63s 135ms/step - loss: 1.7226 - accuracy: 0.6164 - val_loss: 1.5360 - val_accuracy: 0.7669\n",
      "Epoch 7/10\n",
      "469/469 [==============================] - 61s 129ms/step - loss: 1.4946 - accuracy: 0.6528 - val_loss: 1.2708 - val_accuracy: 0.7905\n",
      "Epoch 8/10\n",
      "469/469 [==============================] - 64s 136ms/step - loss: 1.2743 - accuracy: 0.6838 - val_loss: 1.0390 - val_accuracy: 0.8086\n",
      "Epoch 9/10\n",
      "469/469 [==============================] - 66s 141ms/step - loss: 1.0982 - accuracy: 0.7116 - val_loss: 0.8675 - val_accuracy: 0.8241\n",
      "Epoch 10/10\n",
      "469/469 [==============================] - 65s 139ms/step - loss: 0.9737 - accuracy: 0.7284 - val_loss: 0.7496 - val_accuracy: 0.8361\n",
      "The model has successfully trained\n",
      "Saving the bot as mnist.h5\n"
     ]
    }
   ],
   "source": [
    "import keras\n",
    "from keras.datasets import mnist\n",
    "from keras.models import Sequential\n",
    "from keras.layers import Dense \n",
    "from keras.layers import Flatten\n",
    "from keras.layers import Dropout\n",
    "from keras.layers import Flatten\n",
    "from keras.layers import Conv2D\n",
    "from keras.layers import MaxPooling2D\n",
    "from keras import backend as K\n",
    "#  to split the data of training and testing sets\n",
    "(x_train, y_train), (x_test, y_test) = mnist.load_data()\n",
    "\n",
    "x_train = x_train.reshape(x_train.shape[0], 28, 28, 1)\n",
    "x_test = x_test.reshape(x_test.shape[0], 28, 28, 1)\n",
    "input_shape = (28, 28, 1)\n",
    "# conversion of class vectors to matrices of  binary class \n",
    "y_train = keras.utils.to_categorical(y_train, num_classes)\n",
    "y_test = keras.utils.to_categorical(y_test, num_classes)\n",
    "x_train = x_train.astype('float32')\n",
    "x_test = x_test.astype('float32')\n",
    "x_train /= 255\n",
    "x_test /= 255\n",
    "\n",
    "batch_size = 128\n",
    "num_classes = 10\n",
    "epochs = 10\n",
    "model = Sequential()\n",
    "model.add(Conv2D(32, kernel_size=(3, 3),activation='relu',input_shape=input_shape))\n",
    "model.add(Conv2D(64, (3, 3), activation='relu'))\n",
    "model.add(MaxPooling2D(pool_size=(2, 2)))\n",
    "model.add(Dropout(0.25))\n",
    "model.add(Flatten())\n",
    "model.add(Dense(256, activation='relu'))\n",
    "model.add(Dropout(0.5))\n",
    "model.add(Dense(num_classes, activation='softmax'))\n",
    "model.compile(loss=keras.losses.categorical_crossentropy,optimizer=keras.optimizers.Adadelta(),metrics=['accuracy'])\n",
    "\n",
    "hist = model.fit(x_train, y_train,batch_size=batch_size,epochs=epochs,verbose=1,validation_data=(x_test, y_test))\n",
    "print(\"The model has successfully trained\")\n",
    "model.save('mnist.h5')\n",
    "print(\"Saving the bot as mnist.h5\")\n"
   ]
  },
  {
   "cell_type": "code",
   "execution_count": null,
   "id": "141afe2d",
   "metadata": {},
   "outputs": [],
   "source": []
  }
 ],
 "metadata": {
  "kernelspec": {
   "display_name": "Python 3 (ipykernel)",
   "language": "python",
   "name": "python3"
  },
  "language_info": {
   "codemirror_mode": {
    "name": "ipython",
    "version": 3
   },
   "file_extension": ".py",
   "mimetype": "text/x-python",
   "name": "python",
   "nbconvert_exporter": "python",
   "pygments_lexer": "ipython3",
   "version": "3.8.5"
  }
 },
 "nbformat": 4,
 "nbformat_minor": 5
}
