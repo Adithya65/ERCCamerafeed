{
 "cells": [
  {
   "cell_type": "code",
   "execution_count": 1,
   "id": "f2514d3c",
   "metadata": {},
   "outputs": [],
   "source": [
    "import tensorflow as tf\n",
    "import matplotlib as plt\n",
    "import cv2 as cv\n",
    "import os\n",
    "import numpy\n",
    "from tensorflow.keras.preprocessing.image import ImageDataGenerator\n",
    "from tensorflow.keras.preprocessing  import image"
   ]
  },
  {
   "cell_type": "code",
   "execution_count": 3,
   "id": "0706395e",
   "metadata": {},
   "outputs": [],
   "source": [
    " img=image.load_img(\"computer vision/basedata/training/one/1.png\")\n"
   ]
  },
  {
   "cell_type": "code",
   "execution_count": 24,
   "id": "f202cec6",
   "metadata": {},
   "outputs": [
    {
     "name": "stdout",
     "output_type": "stream",
     "text": [
      "Found 27 images belonging to 2 classes.\n"
     ]
    }
   ],
   "source": [
    "train=ImageDataGenerator(rescale=1/255)\n",
    "validation=ImageDataGenerator(rescale=1/255)\n",
    "train_dataset=train.flow_from_directory(\"computer vision/basedata/training\",target_size=(200,200),batch_size=3, class_mode='binary')\n"
   ]
  },
  {
   "cell_type": "code",
   "execution_count": null,
   "id": "7579cd9c",
   "metadata": {},
   "outputs": [],
   "source": [
    "validation_dataset=train_dataset=train.flow_from_directory(\"computer vision/basedata/validation\",target_size=(200,200),batch_size=3, class_mode='binary')"
   ]
  },
  {
   "cell_type": "code",
   "execution_count": 25,
   "id": "618e677a",
   "metadata": {},
   "outputs": [
    {
     "data": {
      "text/plain": [
       "array([0, 0, 0, 0, 0, 0, 0, 0, 0, 0, 0, 0, 0, 0, 1, 1, 1, 1, 1, 1, 1, 1,\n",
       "       1, 1, 1, 1, 1])"
      ]
     },
     "execution_count": 25,
     "metadata": {},
     "output_type": "execute_result"
    }
   ],
   "source": [
    " \n",
    "train_dataset.classes"
   ]
  },
  {
   "cell_type": "code",
   "execution_count": 28,
   "id": "f90ecbad",
   "metadata": {},
   "outputs": [],
   "source": [
    "model=tf.keras.models.Sequential([tf.keras.layers.Conv2D(16,(3,3),activation='relu',input_shape=(200,200,3)),tf.keras.layers.MaxPool2D(2,2),tf.keras.layers.Conv2D(32,(3,3),activation='relu'),tf.keras.layers.MaxPool2D(2,2),tf.keras.layers.Conv2D(64,(3,3),activation='relu'),tf.keras.layers.MaxPool2D(2,2),tf.keras.layers.Flatten(),tf.keras.layers.Dense(512,activation='relu'),tf.keras.layers.Dense(1,activation='sigmoid')])"
   ]
  },
  {
   "cell_type": "code",
   "execution_count": 34,
   "id": "99f2aa78",
   "metadata": {},
   "outputs": [],
   "source": [
    "model.compile(loss='binary_crossentropy',\n",
    "  optimizer=tf.keras.optimizers.RMSprop(lr=0.001),\n",
    "  metrics=['accuracy'])"
   ]
  },
  {
   "cell_type": "code",
   "execution_count": 36,
   "id": "16834ef7",
   "metadata": {},
   "outputs": [
    {
     "name": "stdout",
     "output_type": "stream",
     "text": [
      "Epoch 1/10\n",
      "3/3 [==============================] - 3s 362ms/step - loss: 6.3824 - accuracy: 0.3333\n",
      "Epoch 2/10\n",
      "3/3 [==============================] - 1s 378ms/step - loss: 1.0859 - accuracy: 0.5556\n",
      "Epoch 3/10\n",
      "3/3 [==============================] - 1s 380ms/step - loss: 0.8122 - accuracy: 0.3333\n",
      "Epoch 4/10\n",
      "3/3 [==============================] - 1s 412ms/step - loss: 0.6839 - accuracy: 0.6667\n",
      "Epoch 5/10\n",
      "3/3 [==============================] - 1s 344ms/step - loss: 0.5657 - accuracy: 0.7778\n",
      "Epoch 6/10\n",
      "3/3 [==============================] - 1s 328ms/step - loss: 0.6106 - accuracy: 0.7778\n",
      "Epoch 7/10\n",
      "3/3 [==============================] - 1s 307ms/step - loss: 0.2910 - accuracy: 0.8889\n",
      "Epoch 8/10\n",
      "3/3 [==============================] - 1s 323ms/step - loss: 0.3110 - accuracy: 0.8889\n",
      "Epoch 9/10\n",
      "3/3 [==============================] - 1s 331ms/step - loss: 0.3717 - accuracy: 0.8889\n",
      "Epoch 10/10\n",
      "3/3 [==============================] - 1s 313ms/step - loss: 0.0577 - accuracy: 1.0000\n"
     ]
    }
   ],
   "source": [
    "model_fit=model.fit(train_dataset,steps_per_epoch=3,epochs=10,validation_data=validation_dataset)"
   ]
  },
  {
   "cell_type": "code",
   "execution_count": 46,
   "id": "9604e62b",
   "metadata": {},
   "outputs": [
    {
     "ename": "FileNotFoundError",
     "evalue": "[WinError 3] The system cannot find the path specified: 'computer vision/basedata/testing/retest'",
     "output_type": "error",
     "traceback": [
      "\u001b[1;31m---------------------------------------------------------------------------\u001b[0m",
      "\u001b[1;31mFileNotFoundError\u001b[0m                         Traceback (most recent call last)",
      "\u001b[1;32m~\\AppData\\Local\\Temp/ipykernel_14228/2061665480.py\u001b[0m in \u001b[0;36m<module>\u001b[1;34m\u001b[0m\n\u001b[0;32m      1\u001b[0m \u001b[0mdir_path\u001b[0m\u001b[1;33m=\u001b[0m \u001b[1;34m'computer vision/basedata/testing/retest'\u001b[0m\u001b[1;33m\u001b[0m\u001b[1;33m\u001b[0m\u001b[0m\n\u001b[1;32m----> 2\u001b[1;33m \u001b[1;32mfor\u001b[0m \u001b[0mi\u001b[0m \u001b[1;32min\u001b[0m \u001b[0mos\u001b[0m\u001b[1;33m.\u001b[0m\u001b[0mlistdir\u001b[0m\u001b[1;33m(\u001b[0m\u001b[0mdir_path\u001b[0m \u001b[1;33m)\u001b[0m\u001b[1;33m:\u001b[0m\u001b[1;33m\u001b[0m\u001b[1;33m\u001b[0m\u001b[0m\n\u001b[0m\u001b[0;32m      3\u001b[0m     \u001b[0mimg\u001b[0m\u001b[1;33m=\u001b[0m\u001b[0mimage\u001b[0m\u001b[1;33m.\u001b[0m\u001b[0mload_img\u001b[0m\u001b[1;33m(\u001b[0m\u001b[0mdir_path\u001b[0m\u001b[1;33m+\u001b[0m \u001b[1;34m'/'\u001b[0m \u001b[1;33m+\u001b[0m \u001b[0mi\u001b[0m\u001b[1;33m)\u001b[0m\u001b[1;33m\u001b[0m\u001b[1;33m\u001b[0m\u001b[0m\n\u001b[0;32m      4\u001b[0m \u001b[1;33m\u001b[0m\u001b[0m\n",
      "\u001b[1;31mFileNotFoundError\u001b[0m: [WinError 3] The system cannot find the path specified: 'computer vision/basedata/testing/retest'"
     ]
    }
   ],
   "source": [
    "dir_path= 'computer vision/basedata/testing/retest'\n",
    "for i in os.listdir(dir_path ):\n",
    "    img=image.load_img(dir_path+ '/' + i)\n",
    "    "
   ]
  },
  {
   "cell_type": "code",
   "execution_count": null,
   "id": "1a66d831",
   "metadata": {},
   "outputs": [],
   "source": []
  }
 ],
 "metadata": {
  "kernelspec": {
   "display_name": "Python 3 (ipykernel)",
   "language": "python",
   "name": "python3"
  },
  "language_info": {
   "codemirror_mode": {
    "name": "ipython",
    "version": 3
   },
   "file_extension": ".py",
   "mimetype": "text/x-python",
   "name": "python",
   "nbconvert_exporter": "python",
   "pygments_lexer": "ipython3",
   "version": "3.8.5"
  }
 },
 "nbformat": 4,
 "nbformat_minor": 5
}
