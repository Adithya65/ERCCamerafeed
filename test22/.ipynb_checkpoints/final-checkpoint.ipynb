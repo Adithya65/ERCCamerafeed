{
 "cells": [
  {
   "cell_type": "code",
   "execution_count": 1,
   "id": "69885cb4",
   "metadata": {},
   "outputs": [],
   "source": [
    "import matplotlib.pyplot as plt\n",
    "import tensorflow as tf\n",
    " \n",
    "from tensorflow import keras\n",
    "from keras import backend as K"
   ]
  },
  {
   "cell_type": "code",
   "execution_count": 3,
   "id": "10cdcb08",
   "metadata": {},
   "outputs": [
    {
     "name": "stdout",
     "output_type": "stream",
     "text": [
      "Epoch 1/10\n",
      "1875/1875 [==============================] - 102s 54ms/step - loss: 0.1169 - accuracy: 0.9642 - val_loss: 0.0432 - val_accuracy: 0.9868\n",
      "Epoch 2/10\n",
      "1875/1875 [==============================] - 92s 49ms/step - loss: 0.0564 - accuracy: 0.9835 - val_loss: 0.0428 - val_accuracy: 0.9863\n",
      "Epoch 3/10\n",
      "1875/1875 [==============================] - 95s 51ms/step - loss: 0.0467 - accuracy: 0.9871 - val_loss: 0.0355 - val_accuracy: 0.9896\n",
      "Epoch 4/10\n",
      "1875/1875 [==============================] - 97s 52ms/step - loss: 0.0387 - accuracy: 0.9888 - val_loss: 0.0600 - val_accuracy: 0.9862\n",
      "Epoch 5/10\n",
      "1875/1875 [==============================] - 98s 52ms/step - loss: 0.0347 - accuracy: 0.9908 - val_loss: 0.0476 - val_accuracy: 0.9886\n",
      "Epoch 6/10\n",
      "1875/1875 [==============================] - 96s 51ms/step - loss: 0.0361 - accuracy: 0.9906 - val_loss: 0.0880 - val_accuracy: 0.9837\n",
      "Epoch 7/10\n",
      "1875/1875 [==============================] - 306s 163ms/step - loss: 0.0364 - accuracy: 0.9920 - val_loss: 0.0692 - val_accuracy: 0.9895\n",
      "Epoch 8/10\n",
      "1875/1875 [==============================] - 86s 46ms/step - loss: 0.0315 - accuracy: 0.9929 - val_loss: 0.0783 - val_accuracy: 0.9876\n",
      "Epoch 9/10\n",
      "1875/1875 [==============================] - 87s 46ms/step - loss: 0.0342 - accuracy: 0.9935 - val_loss: 0.1099 - val_accuracy: 0.9873\n",
      "Epoch 10/10\n",
      "1875/1875 [==============================] - 89s 47ms/step - loss: 0.0398 - accuracy: 0.9932 - val_loss: 0.1221 - val_accuracy: 0.9863\n",
      "313/313 [==============================] - 3s 11ms/step - loss: 0.1221 - accuracy: 0.9863\n",
      "Test accuracy: 0.986299991607666\n",
      "The model has successfully trained\n",
      "Saving the bot as mnist.h5\n"
     ]
    }
   ],
   "source": [
    "import tensorflow as tf\n",
    " \n",
    "from tensorflow import keras\n",
    "from keras import backend as K\n",
    "# load the data\n",
    "(train_img,train_label),(test_img,test_label) = keras.datasets.mnist.load_data()\n",
    "train_img = train_img.reshape([-1, 28, 28, 1])\n",
    "test_img = test_img.reshape([-1, 28, 28, 1])\n",
    "train_img = train_img/255.0\n",
    "test_img = test_img/255.0\n",
    "train_label = keras.utils.to_categorical(train_label)\n",
    "test_label = keras.utils.to_categorical(test_label)\n",
    "\n",
    "# define the model architecture\n",
    "model = keras.Sequential([\n",
    "    keras.layers.Conv2D(32, (5, 5), padding=\"same\", input_shape=[28, 28, 1]),\n",
    "    keras.layers.MaxPool2D((2,2)),\n",
    "    keras.layers.Conv2D(64, (5, 5), padding=\"same\"),\n",
    "    keras.layers.MaxPool2D((2,2)),\n",
    "    keras.layers.Flatten(),\n",
    "    keras.layers.Dense(1024, activation='relu'),\n",
    "    keras.layers.Dropout(0.2),\n",
    "    keras.layers.Dense(10, activation='softmax')\n",
    "])\n",
    "model.compile(optimizer='adam', loss='categorical_crossentropy', metrics=['accuracy'])\n",
    "\n",
    "# train the model\n",
    "hist = model.fit(train_img,train_label, validation_data=(test_img,test_label), epochs=10)\n",
    "test_loss,test_acc = model.evaluate(test_img, test_label)\n",
    "print('Test accuracy:', test_acc)\n",
    "   \n",
    "    \n",
    "    \n",
    "    \n",
    "    \n",
    "print(\"The model has successfully trained\")\n",
    "model.save('mnist.h5')\n",
    "print(\"Saving the bot as mnist.h5\")\n",
    " "
   ]
  },
  {
   "cell_type": "code",
   "execution_count": 12,
   "id": "51d0a452",
   "metadata": {},
   "outputs": [],
   "source": [
    "model.save('mnist6.h5')"
   ]
  },
  {
   "cell_type": "code",
   "execution_count": 2,
   "id": "18e3c592",
   "metadata": {},
   "outputs": [
    {
     "name": "stdout",
     "output_type": "stream",
     "text": [
      "1/1 [==============================] - 1s 614ms/step\n"
     ]
    },
    {
     "data": {
      "text/plain": [
       "3"
      ]
     },
     "execution_count": 2,
     "metadata": {},
     "output_type": "execute_result"
    }
   ],
   "source": [
    "import cv2\n",
    "import matplotlib.pyplot as plt\n",
    "import tensorflow as tf\n",
    "import numpy as np\n",
    "model=tf.keras.models.load_model(\"mnist6.h5\")\n",
    "img=cv2.imread(\"3.png\")\n",
    "gray=cv2.cvtColor(img,cv2.COLOR_BGR2GRAY)\n",
    "resized=cv2.resize(gray,(28,28),interpolation=cv2.INTER_AREA)\n",
    "newimg=tf.keras.utils.normalize(resized,axis=1)\n",
    "newimg3=np.array(newimg).reshape(-1,28,28,1)\n",
    "predictions=model.predict(newimg3)\n",
    "np.argmax(predictions)"
   ]
  },
  {
   "cell_type": "code",
   "execution_count": 31,
   "id": "cc3fd31a",
   "metadata": {},
   "outputs": [
    {
     "name": "stderr",
     "output_type": "stream",
     "text": [
      "Exception in Tkinter callback\n",
      "Traceback (most recent call last):\n",
      "  File \"C:\\Users\\ADITHYA\\anaconda3\\envs\\opencv\\lib\\tkinter\\__init__.py\", line 1883, in __call__\n",
      "    return self.func(*args)\n",
      "  File \"C:\\Users\\ADITHYA\\AppData\\Local\\Temp/ipykernel_6660/3352324763.py\", line 67, in classify_handwriting\n",
      "    digit, acc = predict_digit(im)\n",
      "  File \"C:\\Users\\ADITHYA\\AppData\\Local\\Temp/ipykernel_6660/3352324763.py\", line 22, in predict_digit\n",
      "    gr[i,j]=255\n",
      "TypeError: list indices must be integers or slices, not tuple\n"
     ]
    }
   ],
   "source": [
    "from keras.models import load_model\n",
    "from tkinter import *\n",
    "import tkinter as tk\n",
    "import win32gui\n",
    "from PIL import ImageGrab, Image\n",
    "import numpy as np\n",
    "import matplotlib.pyplot as plt\n",
    "import cv2\n",
    "\n",
    "\n",
    "def predict_digit(img):\n",
    "    gr=[]\n",
    "    gray=cv2.cvtColor(np.float32(img),cv2.COLOR_BGR2GRAY)\n",
    "    m=331\n",
    "    n=391\n",
    "    for i in range(m):\n",
    "        for j in range(n):\n",
    "            if (int(gray[i][j])>80):\n",
    "                gr[i][j]=0\n",
    "         \n",
    "            else:\n",
    "                gr[i][j]=255\n",
    "\n",
    "    #resize image to 28x28 pixels\n",
    "  \n",
    " \n",
    "    img = np.array(gr)#convert rgb to grayscale\n",
    "    img = img.resize((28,28))\n",
    "    \n",
    "    #reshaping to support our model input and normalizing\n",
    "    img = img.reshape(1,28,28,1)\n",
    "   \n",
    "    img = img/255.0\n",
    "    #predicting the class\n",
    "    res = model.predict([img]) \n",
    "    return np.argmax(res), max(res)\n",
    "\n",
    "class App(tk.Tk):\n",
    "    def __init__(self):\n",
    "        tk.Tk.__init__(self)\n",
    "\n",
    "        self.x = self.y = 0\n",
    "\n",
    "        # Creating elements\n",
    "        self.canvas = tk.Canvas(self, width=300, height=300, bg = \"white\", cursor=\"cross\")\n",
    "        self.label = tk.Label(self, text=\"Thinking..\", font=(\"Helvetica\", 48))\n",
    "        self.classify_btn = tk.Button(self, text = \"Recognise\", command =         self.classify_handwriting) \n",
    "        self.button_clear = tk.Button(self, text = \"Clear\", command = self.clear_all)\n",
    "\n",
    "        # Grid structure\n",
    "        self.canvas.grid(row=0, column=0, pady=2, sticky=W, )\n",
    "        self.label.grid(row=0, column=1,pady=2, padx=2)\n",
    "        self.classify_btn.grid(row=1, column=1, pady=2, padx=2)\n",
    "        self.button_clear.grid(row=1, column=0, pady=2)\n",
    "\n",
    "        #self.canvas.bind(\"<Motion>\", self.start_pos)\n",
    "        self.canvas.bind(\"<B1-Motion>\", self.draw_lines)\n",
    "\n",
    "    def clear_all(self):\n",
    "        self.canvas.delete(\"all\")\n",
    "\n",
    "    def classify_handwriting(self):\n",
    "        HWND = self.canvas.winfo_id() # get the handle of the canvas\n",
    "        rect = win32gui.GetWindowRect(HWND) # get the coordinate of the canvas\n",
    "        im = ImageGrab.grab(rect)\n",
    "         \n",
    "        digit, acc = predict_digit(im)\n",
    "        self.label.configure(text= str(digit)+', '+ str(int(acc*100))+'%')\n",
    "\n",
    "    def draw_lines(self, event):\n",
    "        self.x = event.x\n",
    "        self.y = event.y\n",
    "        r=8\n",
    "        self.canvas.create_oval(self.x-r, self.y-r, self.x + r, self.y + r, fill='black')\n",
    "\n",
    "app = App()\n",
    "mainloop()"
   ]
  },
  {
   "cell_type": "code",
   "execution_count": 28,
   "id": "3f2369d5",
   "metadata": {},
   "outputs": [
    {
     "data": {
      "text/plain": [
       "(331, 391, 3)"
      ]
     },
     "execution_count": 28,
     "metadata": {},
     "output_type": "execute_result"
    }
   ],
   "source": [
    "img.shape"
   ]
  },
  {
   "cell_type": "code",
   "execution_count": 23,
   "id": "529a7a4c",
   "metadata": {},
   "outputs": [],
   "source": [
    "img=cv2.imread(\"xcc.png\")\n",
    " "
   ]
  },
  {
   "cell_type": "code",
   "execution_count": 40,
   "id": "f2a92d69",
   "metadata": {},
   "outputs": [],
   "source": [
    "gr =cv2.cvtColor(img,cv2.COLOR_BGR2GRAY)\n",
    "th = cv2.threshold(gray, 0, 255, cv2.THRESH_BINARY_INV)\n",
    "\n",
    "\n",
    "for i in range(gray.shape[0]):\n",
    "    for j in range(gray.shape[1]):\n",
    "        if (int(gr[i,j])>80):\n",
    "            gr[i,j]=0\n",
    "         \n",
    "        else:\n",
    "            gr[i,j]=255\n",
    "            \n",
    "            \n",
    " \n",
    " "
   ]
  },
  {
   "cell_type": "code",
   "execution_count": 35,
   "id": "849e32d4",
   "metadata": {},
   "outputs": [
    {
     "data": {
      "text/plain": [
       "<matplotlib.image.AxesImage at 0x24c789e1d60>"
      ]
     },
     "execution_count": 35,
     "metadata": {},
     "output_type": "execute_result"
    },
    {
     "data": {
      "image/png": "[encoded data removed]",
      "text/plain": [
       "<Figure size 432x288 with 1 Axes>"
      ]
     },
     "metadata": {
      "needs_background": "light"
     },
     "output_type": "display_data"
    }
   ],
   "source": [
    "plt.imshow(gr)"
   ]
  },
  {
   "cell_type": "markdown",
   "id": "e4eacd73",
   "metadata": {},
   "source": [
    " "
   ]
  },
  {
   "cell_type": "code",
   "execution_count": 36,
   "id": "af73129a",
   "metadata": {},
   "outputs": [
    {
     "data": {
      "text/plain": [
       "-1"
      ]
     },
     "execution_count": 36,
     "metadata": {},
     "output_type": "execute_result"
    }
   ],
   "source": [
    "cv2.imshow(\"l\",gr)\n",
    "cv2.waitKey(0)"
   ]
  },
  {
   "cell_type": "code",
   "execution_count": 52,
   "id": "25748117",
   "metadata": {},
   "outputs": [
    {
     "data": {
      "text/plain": [
       "array([[[255, 255, 255],\n",
       "        [255, 255, 255],\n",
       "        [255, 255, 255],\n",
       "        ...,\n",
       "        [255, 255, 255],\n",
       "        [255, 255, 255],\n",
       "        [255, 255, 255]],\n",
       "\n",
       "       [[255, 255, 255],\n",
       "        [255, 255, 255],\n",
       "        [255, 255, 255],\n",
       "        ...,\n",
       "        [255, 255, 255],\n",
       "        [255, 255, 255],\n",
       "        [255, 255, 255]],\n",
       "\n",
       "       [[255, 255, 255],\n",
       "        [255, 255, 255],\n",
       "        [255, 255, 255],\n",
       "        ...,\n",
       "        [255, 255, 255],\n",
       "        [255, 255, 255],\n",
       "        [255, 255, 255]],\n",
       "\n",
       "       ...,\n",
       "\n",
       "       [[255, 255, 255],\n",
       "        [255, 255, 255],\n",
       "        [255, 255, 255],\n",
       "        ...,\n",
       "        [255, 255, 255],\n",
       "        [255, 255, 255],\n",
       "        [255, 255, 255]],\n",
       "\n",
       "       [[255, 255, 255],\n",
       "        [255, 255, 255],\n",
       "        [255, 255, 255],\n",
       "        ...,\n",
       "        [255, 255, 255],\n",
       "        [255, 255, 255],\n",
       "        [255, 255, 255]],\n",
       "\n",
       "       [[255, 255, 255],\n",
       "        [255, 255, 255],\n",
       "        [255, 255, 255],\n",
       "        ...,\n",
       "        [255, 255, 255],\n",
       "        [255, 255, 255],\n",
       "        [255, 255, 255]]], dtype=uint8)"
      ]
     },
     "execution_count": 52,
     "metadata": {},
     "output_type": "execute_result"
    }
   ],
   "source": [
    "img"
   ]
  },
  {
   "cell_type": "code",
   "execution_count": null,
   "id": "339e4563",
   "metadata": {},
   "outputs": [],
   "source": []
  }
 ],
 "metadata": {
  "kernelspec": {
   "display_name": "Python 3 (ipykernel)",
   "language": "python",
   "name": "python3"
  },
  "language_info": {
   "codemirror_mode": {
    "name": "ipython",
    "version": 3
   },
   "file_extension": ".py",
   "mimetype": "text/x-python",
   "name": "python",
   "nbconvert_exporter": "python",
   "pygments_lexer": "ipython3",
   "version": "3.8.5"
  }
 },
 "nbformat": 4,
 "nbformat_minor": 5
}
