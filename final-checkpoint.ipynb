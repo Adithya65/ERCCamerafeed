{
 "cells": [
  {
   "cell_type": "code",
   "execution_count": null,
   "id": "69885cb4",
   "metadata": {},
   "outputs": [],
   "source": [
    "import matplotlib.pyplot as plt\n",
    "import tensorflow as tf\n",
    " \n",
    "from tensorflow import keras\n",
    "from keras import backend as K"
   ]
  },
  {
   "cell_type": "code",
   "execution_count": null,
   "id": "10cdcb08",
   "metadata": {},
   "outputs": [],
   "source": [
    "import tensorflow as tf\n",
    " \n",
    "from tensorflow import keras\n",
    "from keras import backend as K\n",
    "# load the data\n",
    "(train_img,train_label),(test_img,test_label) = keras.datasets.mnist.load_data()\n",
    "train_img = train_img.reshape([-1, 28, 28, 1])\n",
    "test_img = test_img.reshape([-1, 28, 28, 1])\n",
    "train_img = train_img/255.0\n",
    "test_img = test_img/255.0\n",
    "train_label = keras.utils.to_categorical(train_label)\n",
    "test_label = keras.utils.to_categorical(test_label)\n",
    "\n",
    "# define the model architecture\n",
    "model = keras.Sequential([\n",
    "    keras.layers.Conv2D(32, (5, 5), padding=\"same\", input_shape=[28, 28, 1]),\n",
    "    keras.layers.MaxPool2D((2,2)),\n",
    "    keras.layers.Conv2D(64, (5, 5), padding=\"same\"),\n",
    "    keras.layers.MaxPool2D((2,2)),\n",
    "    keras.layers.Flatten(),\n",
    "    keras.layers.Dense(1024, activation='relu'),\n",
    "    keras.layers.Dropout(0.2),\n",
    "    keras.layers.Dense(10, activation='softmax')\n",
    "])\n",
    "model.compile(optimizer='adam', loss='categorical_crossentropy', metrics=['accuracy'])\n",
    "\n",
    "# train the model\n",
    "hist = model.fit(train_img,train_label, validation_data=(test_img,test_label), epochs=10)\n",
    "test_loss,test_acc = model.evaluate(test_img, test_label)\n",
    "print('Test accuracy:', test_acc)\n",
    "   \n",
    "    \n",
    "    \n",
    "    \n",
    "    \n",
    "print(\"The model has successfully trained\")\n",
    "model.save('mnist.h5')\n",
    "print(\"Saving the bot as mnist.h5\")\n",
    " "
   ]
  },
  {
   "cell_type": "code",
   "execution_count": null,
   "id": "51d0a452",
   "metadata": {},
   "outputs": [],
   "source": [
    "model.save('mnist6.h5')"
   ]
  },
  {
   "cell_type": "markdown",
   "id": "ef2a432e",
   "metadata": {},
   "source": [
    "# Prediction"
   ]
  },
  {
   "cell_type": "code",
   "execution_count": null,
   "id": "18e3c592",
   "metadata": {},
   "outputs": [],
   "source": [
    "import cv2\n",
    "import matplotlib.pyplot as plt\n",
    "import tensorflow as tf\n",
    "import numpy as np\n",
    "model=tf.keras.models.load_model(\"mnist6.h5\")\n",
    "img=cv2.imread(\"test1.png\")\n",
    "\n",
    "gray=cv2.cvtColor(img,cv2.COLOR_BGR2GRAY)\n",
    "gr=np.array(gray)\n",
    "for i in range(gray.shape[0]):\n",
    "    for j in range(gray.shape[1]):\n",
    "        if (int(gray[i,j])>120):\n",
    "            gr[i][j]=0\n",
    "        elif(int(gray[i,j])<40) :\n",
    "            gr[i][j]=0\n",
    "        else:\n",
    "            gr[i][j]=255\n",
    "         \n",
    "       \n",
    "gray = cv2.medianBlur(gr, 5)\n",
    "resized=cv2.resize(gray,(28,28),interpolation=cv2.INTER_AREA)\n",
    "newimg=tf.keras.utils.normalize(resized,axis=1)\n",
    "newimg3=np.array(newimg).reshape(-1,28,28,1)\n",
    "predictions=model.predict(newimg3)\n",
    "np.argmax(predictions)"
   ]
  },
  {
   "cell_type": "markdown",
   "id": "8d085a1e",
   "metadata": {},
   "source": [
    "# camera feed\n"
   ]
  },
  {
   "cell_type": "code",
   "execution_count": null,
   "id": "1e0d81eb",
   "metadata": {},
   "outputs": [],
   "source": [
    "import cv2 \n",
    "vid = cv2.VideoCapture(0)\n",
    "while(True):\n",
    "      \n",
    " \n",
    "    ret, frame = vid.read()\n",
    "  \n",
    "    \n",
    "    cv2.imshow('frame', frame)\n",
    "      \n",
    "    if cv2.waitKey(1) & 0xFF==ord('a'):\n",
    "        cv2.imwrite(\"test1.png\", frame)\n",
    "    if cv2.waitKey(1) & 0xFF == ord('q'):\n",
    "        break\n",
    "  \n",
    "vid.release()\n",
    " \n",
    "cv2.destroyAllWindows()"
   ]
  },
  {
   "cell_type": "code",
   "execution_count": 2,
   "id": "da4e6e86",
   "metadata": {},
   "outputs": [
    {
     "data": {
      "text/plain": [
       "-1"
      ]
     },
     "execution_count": 2,
     "metadata": {},
     "output_type": "execute_result"
    }
   ],
   "source": [
    "import numpy as np\n",
    "import cv2\n",
    "img=cv2.imread(\"test1.png\")\n",
    "h=cv2.cvtColor(img,cv2.COLOR_BGR2HSV)\n",
    "gray=cv2.cvtColor(h,cv2.COLOR_BGR2GRAY)\n",
    "gr=np.array(gray)\n",
    "for i in range(gray.shape[0]):\n",
    "    for j in range(gray.shape[1]):\n",
    "        if (int(gray[i,j])>110):\n",
    "            gr[i][j]=0\n",
    "         \n",
    "        elif(int(gray[i,j])<40) :\n",
    "            gr[i][j]=0\n",
    "        else:\n",
    "            gr[i][j]=255\n",
    "            \n",
    "gr = cv2.medianBlur(gr, 5)\n",
    "\n",
    "cv2.imshow(\"l\",h)\n",
    "cv2.waitKey(0)"
   ]
  },
  {
   "cell_type": "markdown",
   "id": "a4cdf6e1",
   "metadata": {},
   "source": [
    "# GUI"
   ]
  },
  {
   "cell_type": "code",
   "execution_count": null,
   "id": "7bb1bbf6",
   "metadata": {},
   "outputs": [],
   "source": [
    "from keras.models import load_model\n",
    "from tkinter import *\n",
    "import tkinter as tk\n",
    "import win32gui\n",
    "from PIL import ImageGrab, Image\n",
    "import numpy as np\n",
    "import matplotlib.pyplot as plt\n",
    "import cv2\n",
    "\n",
    "\n",
    "def predict_digit(img):\n",
    "    gr=np.array(img)\n",
    "    gray=cv2.cvtColor(np.float32(img),cv2.COLOR_BGR2GRAY)\n",
    "    m=250\n",
    "    n=250\n",
    "    for i in range(m):\n",
    "        for j in range(n):\n",
    "            if (int(gray[i][j])>80):\n",
    "                gr[i][j]=0\n",
    "         \n",
    "            else:\n",
    "                gr[i][j]=255\n",
    "\n",
    "    #resize image to 28x28 pixels\n",
    "  \n",
    " \n",
    "     #convert rgb to grayscale\n",
    "    img=gr.resize((28,28))\n",
    "    \n",
    "    #reshaping to support our model input and normalizing\n",
    "    img =gr.reshape(1,28,28,1)\n",
    "   \n",
    "    img = img/255.0\n",
    "    #predicting the class\n",
    "    res = model.predict([img]) \n",
    "    return np.argmax(res), max(res)\n",
    "\n",
    "class App(tk.Tk):\n",
    "    def __init__(self):\n",
    "        tk.Tk.__init__(self)\n",
    "\n",
    "        self.x = self.y = 0\n",
    "\n",
    "        # Creating elements\n",
    "        self.canvas = tk.Canvas(self, width=300, height=300, bg = \"white\", cursor=\"cross\")\n",
    "        self.label = tk.Label(self, text=\"Thinking..\", font=(\"Helvetica\", 48))\n",
    "        self.classify_btn = tk.Button(self, text = \"Recognise\", command =         self.classify_handwriting) \n",
    "        self.button_clear = tk.Button(self, text = \"Clear\", command = self.clear_all)\n",
    "\n",
    "        # Grid structure\n",
    "        self.canvas.grid(row=0, column=0, pady=2, sticky=W, )\n",
    "        self.label.grid(row=0, column=1,pady=2, padx=2)\n",
    "        self.classify_btn.grid(row=1, column=1, pady=2, padx=2)\n",
    "        self.button_clear.grid(row=1, column=0, pady=2)\n",
    "\n",
    "        #self.canvas.bind(\"<Motion>\", self.start_pos)\n",
    "        self.canvas.bind(\"<B1-Motion>\", self.draw_lines)\n",
    "\n",
    "    def clear_all(self):\n",
    "        self.canvas.delete(\"all\")\n",
    "\n",
    "    def classify_handwriting(self):\n",
    "        HWND = self.canvas.winfo_id() # get the handle of the canvas\n",
    "        rect = win32gui.GetWindowRect(HWND) # get the coordinate of the canvas\n",
    "        im = ImageGrab.grab(rect)\n",
    "         \n",
    "        digit, acc = predict_digit(im)\n",
    "        self.label.configure(text= str(digit)+', '+ str(int(acc*100))+'%')\n",
    "\n",
    "    def draw_lines(self, event):\n",
    "        self.x = event.x\n",
    "        self.y = event.y\n",
    "        r=8\n",
    "        self.canvas.create_oval(self.x-r, self.y-r, self.x + r, self.y + r, fill='black')\n",
    "\n",
    "app = App()\n",
    "mainloop()"
   ]
  },
  {
   "cell_type": "code",
   "execution_count": null,
   "id": "c0f102b8",
   "metadata": {},
   "outputs": [],
   "source": [
    "cv2.imshow(\"l\",gray)\n",
    "cv2.waitKey(0)"
   ]
  },
  {
   "cell_type": "code",
   "execution_count": null,
   "id": "03ccc5d1",
   "metadata": {},
   "outputs": [],
   "source": []
  }
 ],
 "metadata": {
  "kernelspec": {
   "display_name": "Python 3 (ipykernel)",
   "language": "python",
   "name": "python3"
  },
  "language_info": {
   "codemirror_mode": {
    "name": "ipython",
    "version": 3
   },
   "file_extension": ".py",
   "mimetype": "text/x-python",
   "name": "python",
   "nbconvert_exporter": "python",
   "pygments_lexer": "ipython3",
   "version": "3.8.5"
  }
 },
 "nbformat": 4,
 "nbformat_minor": 5
}
